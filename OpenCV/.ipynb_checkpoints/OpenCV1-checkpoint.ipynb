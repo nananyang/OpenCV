{
 "cells": [
  {
   "cell_type": "code",
   "execution_count": 2,
   "metadata": {},
   "outputs": [],
   "source": [
    "import cv2\n",
    "import numpy as np\n",
    "import pickle\n",
    "\n",
    "font=cv2.FONT_HERSHEY_SIMPLEX"
   ]
  },
  {
   "cell_type": "code",
   "execution_count": 3,
   "metadata": {},
   "outputs": [],
   "source": [
    "def faceDetect():\n",
    "    face_cascade= cv2.CascadeClassifier('data/haarcascade_frontalface_alt2.xml')\n",
    "    eye_cascade = cv2.CascadeClassifier('data/haarcascade_eye.xml')\n",
    "    smile_cascade = cv2.CascadeClassifier('data/haarcascade_smile.xml')\n",
    "    recognizer = cv2.face.LBPHFaceRecognizer_create()\n",
    "    recognizer.read('trainner.yml')\n",
    "    \n",
    "    labels = {'person_name': 1}\n",
    "    \n",
    "    \n",
    "    with open('lables.pickle', 'rb') as f:\n",
    "        og_labels = pickle.load(f)\n",
    "        labels = {v:k for k,v in og_labels.items()}\n",
    "    \n",
    "    try:\n",
    "        # 웹캠 활성화 코드\n",
    "        cap=cv2.VideoCapture(0)\n",
    "        \n",
    "    except:\n",
    "        print('카메라 로딩 실패')\n",
    "        return\n",
    "    \n",
    "    while True: \n",
    "        ret,frame = cap.read()\n",
    "        if not ret:\n",
    "            return\n",
    "        \n",
    "        gray = cv2.cvtColor(frame,cv2.COLOR_BGR2GRAY)\n",
    "        faces = face_cascade.detectMultiScale(gray,scaleFactor=1.5, minNeighbors=5)\n",
    "        \n",
    "        for(x,y,w,h) in faces:\n",
    "            print(x,y,w,h)\n",
    "            \n",
    "            roi_gray = gray[y:y+h, x:x+w] #(ycord_start, ycord_end)\n",
    "            roi_color = frame[y:y+h, x:x+w]\n",
    "            \n",
    "            # recognize? deep learned model predict keras tensorflow pytorch scikit learn \n",
    "            id_, conf = recognizer.predict(roi_gray) # conf = 정확도\n",
    "            if conf>= 45 and conf <=85:\n",
    "                print(id_)\n",
    "                print(labels[id_])\n",
    "                print(conf)\n",
    "            img_item = \"my-image.png\"\n",
    "            cv2.imwrite(img_item, roi_color)\n",
    "            \n",
    "            color = (255,0,0) # BGR 0-255\n",
    "            stroke = 2\n",
    "            name = labels[id_]\n",
    "            end_cord_x = x+w\n",
    "            end_cord_y = y+h\n",
    "            cv2.rectangle(frame, (x,y), (end_cord_x, end_cord_y), color, stroke)\n",
    "            subitems = smile_cascade.detectMultiScale(roi_gray)\n",
    "            for (ex,ey,ew,eh) in subitems:\n",
    "                cv2.rectangle(roi_color,(ex,ey),(ex+ew,ey+eh),(0,255,0),2)\n",
    "            \n",
    "            cv2.putText(frame,name,(x-5,y-5),font,0.9,(255,255,0),2,cv2.LINE_AA)\n",
    "    # 위코드는 얼굴을 인식하는 사격형에 대한 소스, 텍스틑 소스\n",
    "    \n",
    "        cv2.imshow('frame',frame) # 영상을 출력하는 소스\n",
    "        \n",
    "        if cv2.waitKey(20) & 0xFF == ord('q'): break\n",
    "        #if cv2.waitKey(1)>0: break\n",
    "            \n",
    "    cap.release()\n",
    "    cv2.destroyAllWindows()"
   ]
  },
  {
   "cell_type": "code",
   "execution_count": 4,
   "metadata": {},
   "outputs": [
    {
     "ename": "AttributeError",
     "evalue": "module 'cv2.cv2' has no attribute 'face'",
     "output_type": "error",
     "traceback": [
      "\u001b[1;31m---------------------------------------------------------------------------\u001b[0m",
      "\u001b[1;31mAttributeError\u001b[0m                            Traceback (most recent call last)",
      "\u001b[1;32m<ipython-input-4-5f1d58cd2143>\u001b[0m in \u001b[0;36m<module>\u001b[1;34m\u001b[0m\n\u001b[1;32m----> 1\u001b[1;33m \u001b[0mfaceDetect\u001b[0m\u001b[1;33m(\u001b[0m\u001b[1;33m)\u001b[0m\u001b[1;33m\u001b[0m\u001b[1;33m\u001b[0m\u001b[0m\n\u001b[0m",
      "\u001b[1;32m<ipython-input-3-15f933fb57a0>\u001b[0m in \u001b[0;36mfaceDetect\u001b[1;34m()\u001b[0m\n\u001b[0;32m      1\u001b[0m \u001b[1;32mdef\u001b[0m \u001b[0mfaceDetect\u001b[0m\u001b[1;33m(\u001b[0m\u001b[1;33m)\u001b[0m\u001b[1;33m:\u001b[0m\u001b[1;33m\u001b[0m\u001b[1;33m\u001b[0m\u001b[0m\n\u001b[0;32m      2\u001b[0m     \u001b[0mface_cascade\u001b[0m\u001b[1;33m=\u001b[0m \u001b[0mcv2\u001b[0m\u001b[1;33m.\u001b[0m\u001b[0mCascadeClassifier\u001b[0m\u001b[1;33m(\u001b[0m\u001b[1;34m'data/haarcascade_frontalface_alt2.xml'\u001b[0m\u001b[1;33m)\u001b[0m\u001b[1;33m\u001b[0m\u001b[1;33m\u001b[0m\u001b[0m\n\u001b[1;32m----> 3\u001b[1;33m     \u001b[0mrecognizer\u001b[0m \u001b[1;33m=\u001b[0m \u001b[0mcv2\u001b[0m\u001b[1;33m.\u001b[0m\u001b[0mface\u001b[0m\u001b[1;33m.\u001b[0m\u001b[0mLBPHFaceRecognizer_create\u001b[0m\u001b[1;33m(\u001b[0m\u001b[1;33m)\u001b[0m\u001b[1;33m\u001b[0m\u001b[1;33m\u001b[0m\u001b[0m\n\u001b[0m\u001b[0;32m      4\u001b[0m     \u001b[0mrecognizer\u001b[0m\u001b[1;33m.\u001b[0m\u001b[0mread\u001b[0m\u001b[1;33m(\u001b[0m\u001b[1;34m'trainner.yml'\u001b[0m\u001b[1;33m)\u001b[0m\u001b[1;33m\u001b[0m\u001b[1;33m\u001b[0m\u001b[0m\n\u001b[0;32m      5\u001b[0m \u001b[1;33m\u001b[0m\u001b[0m\n",
      "\u001b[1;31mAttributeError\u001b[0m: module 'cv2.cv2' has no attribute 'face'"
     ]
    }
   ],
   "source": [
    "faceDetect()"
   ]
  }
 ],
 "metadata": {
  "kernelspec": {
   "display_name": "Python 3",
   "language": "python",
   "name": "python3"
  },
  "language_info": {
   "codemirror_mode": {
    "name": "ipython",
    "version": 3
   },
   "file_extension": ".py",
   "mimetype": "text/x-python",
   "name": "python",
   "nbconvert_exporter": "python",
   "pygments_lexer": "ipython3",
   "version": "3.6.8"
  }
 },
 "nbformat": 4,
 "nbformat_minor": 2
}
